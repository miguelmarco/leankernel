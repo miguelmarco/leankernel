{
 "cells": [
  {
   "cell_type": "markdown",
   "id": "14a893bc-6f81-4ffc-833d-289229f51a9e",
   "metadata": {
    "slideshow": {
     "slide_type": "slide"
    },
    "tags": []
   },
   "source": [
    "# Example of LEAN3 jupyter kernel\n",
    "\n",
    "You can write definitions in each cell\n",
    "\n",
    "If everything is ok, the content of the cell is added to a session file and you get an `OK` message."
   ]
  },
  {
   "cell_type": "code",
   "execution_count": 1,
   "id": "ea64c429",
   "metadata": {
    "slideshow": {
     "slide_type": "slide"
    },
    "tags": []
   },
   "outputs": [
    {
     "name": "stdout",
     "output_type": "stream",
     "text": [
      "OK"
     ]
    }
   ],
   "source": [
    "inductive natural \n",
    "| one        : natural\n",
    "| next  : natural -> natural\n"
   ]
  },
  {
   "cell_type": "code",
   "execution_count": 2,
   "id": "5779baae-ab7e-4dd3-9b12-2c2e4220b738",
   "metadata": {
    "tags": []
   },
   "outputs": [
    {
     "name": "stdout",
     "output_type": "stream",
     "text": [
      "OK"
     ]
    }
   ],
   "source": [
    "open natural"
   ]
  },
  {
   "cell_type": "code",
   "execution_count": 3,
   "id": "d419b9cb",
   "metadata": {
    "slideshow": {
     "slide_type": "subslide"
    },
    "tags": []
   },
   "outputs": [
    {
     "name": "stdout",
     "output_type": "stream",
     "text": [
      "OK"
     ]
    }
   ],
   "source": [
    "def sum_nat : natural -> natural -> natural \n",
    "| one n := next n\n",
    "| (next m) n := next (sum_nat m n)\n"
   ]
  },
  {
   "cell_type": "code",
   "execution_count": 4,
   "id": "5121135e",
   "metadata": {
    "slideshow": {
     "slide_type": "slide"
    },
    "tags": []
   },
   "outputs": [
    {
     "name": "stdout",
     "output_type": "stream",
     "text": [
      "OK"
     ]
    }
   ],
   "source": [
    "infixl ` + `:65  := sum_nat\n",
    "instance : has_one natural := ⟨natural.one⟩"
   ]
  },
  {
   "cell_type": "markdown",
   "id": "f0594572-9070-4f6a-8803-ec3c62cfbc2d",
   "metadata": {},
   "source": [
    "You can check definitions, and get the result printed"
   ]
  },
  {
   "cell_type": "code",
   "execution_count": 5,
   "id": "b3646032",
   "metadata": {
    "slideshow": {
     "slide_type": "fragment"
    },
    "tags": []
   },
   "outputs": [
    {
     "name": "stdout",
     "output_type": "stream",
     "text": [
      "natural : Type\n"
     ]
    }
   ],
   "source": [
    "#check natural"
   ]
  },
  {
   "cell_type": "markdown",
   "id": "fc16fdd3-e0e6-4edb-8daf-1975c2e8ab94",
   "metadata": {},
   "source": [
    "To prove results in tactic mode, you can write the tactics in the `begin`-`end` block. Each time you execute the cell, you will get an error showing the state of the goal, or an `OK` if the proof is correct.\n",
    "\n",
    "Typically you would keep editing and  executing the same cell until you get an `OK` message, but here we show several step of the proof in several cells, so you can see the process by executing the cells one after another:"
   ]
  },
  {
   "cell_type": "code",
   "execution_count": 6,
   "id": "0f5fc9c9-9d85-499c-abd4-869cce42ede9",
   "metadata": {
    "tags": []
   },
   "outputs": [
    {
     "name": "stdout",
     "output_type": "stream",
     "text": [
      "error: tactic failed, there are unsolved goals\n",
      "state:\n",
      "m : natural\n",
      "⊢ m + 1 = m.next\n"
     ]
    }
   ],
   "source": [
    "lemma addone (m : natural) : m + 1 = next m :=\n",
    "begin\n",
    "\n",
    "end"
   ]
  },
  {
   "cell_type": "code",
   "execution_count": 7,
   "id": "79280372-fc65-471b-843c-80f0842eb52a",
   "metadata": {
    "tags": []
   },
   "outputs": [
    {
     "name": "stdout",
     "output_type": "stream",
     "text": [
      "error: tactic failed, there are unsolved goals\n",
      "state:\n",
      "2 goals\n",
      "case natural.one\n",
      "⊢ one + 1 = one.next\n",
      "\n",
      "case natural.next\n",
      "n : natural,\n",
      "hn : n + 1 = n.next\n",
      "⊢ n.next + 1 = n.next.next\n"
     ]
    }
   ],
   "source": [
    "lemma addone (m : natural) : m + 1 = next m :=\n",
    "begin\n",
    "  induction m with n hn,\n",
    "\n",
    "end"
   ]
  },
  {
   "cell_type": "code",
   "execution_count": 8,
   "id": "d7e2a6a8-808e-4519-ac93-d7322f6a11b1",
   "metadata": {
    "tags": []
   },
   "outputs": [
    {
     "name": "stdout",
     "output_type": "stream",
     "text": [
      "error: solve1 tactic failed, focused goal has not been solved\n",
      "state:\n",
      "case natural.one\n",
      "⊢ one + 1 = one.next\n"
     ]
    }
   ],
   "source": [
    "lemma addone (m : natural) : m + 1 = next m :=\n",
    "begin\n",
    "  induction m with n hn,\n",
    "  {\n",
    "    \n",
    "  },\n",
    "end"
   ]
  },
  {
   "cell_type": "code",
   "execution_count": 9,
   "id": "8c5fa922-ccf5-4fa6-a301-c0fa1929ae47",
   "metadata": {
    "tags": []
   },
   "outputs": [
    {
     "name": "stdout",
     "output_type": "stream",
     "text": [
      "error: tactic failed, there are unsolved goals\n",
      "state:\n",
      "case natural.next\n",
      "n : natural,\n",
      "hn : n + 1 = n.next\n",
      "⊢ n.next + 1 = n.next.next\n"
     ]
    }
   ],
   "source": [
    "lemma addone (m : natural) : m + 1 = next m :=\n",
    "begin\n",
    "  induction m with n hn,\n",
    "  {\n",
    "    refl,\n",
    "  },\n",
    "end"
   ]
  },
  {
   "cell_type": "code",
   "execution_count": 10,
   "id": "886601bd-e8fb-447c-b70b-ae7aafb6e57f",
   "metadata": {
    "tags": []
   },
   "outputs": [
    {
     "name": "stdout",
     "output_type": "stream",
     "text": [
      "error: solve1 tactic failed, focused goal has not been solved\n",
      "state:\n",
      "n : natural,\n",
      "hn : n + 1 = n.next\n",
      "⊢ (n + 1).next = n.next.next\n"
     ]
    }
   ],
   "source": [
    "lemma addone (m : natural) : m + 1 = next m :=\n",
    "begin\n",
    "  induction m with n hn,\n",
    "  {\n",
    "    refl,\n",
    "  },\n",
    "  {\n",
    "    unfold sum_nat,\n",
    "  },\n",
    "end"
   ]
  },
  {
   "cell_type": "code",
   "execution_count": 11,
   "id": "9aa453a2-5d1a-4f03-af88-c67d6b49494b",
   "metadata": {
    "tags": []
   },
   "outputs": [
    {
     "name": "stdout",
     "output_type": "stream",
     "text": [
      "OK"
     ]
    }
   ],
   "source": [
    "lemma addone (m : natural) : m + 1 = next m :=\n",
    "begin\n",
    "  induction m with n hn,\n",
    "  {\n",
    "    refl,\n",
    "  },\n",
    "  {\n",
    "    unfold sum_nat,\n",
    "    rw hn,\n",
    "  },\n",
    "end"
   ]
  },
  {
   "cell_type": "markdown",
   "id": "e543e0e1-46b4-4280-81a2-f7a3a796a3b9",
   "metadata": {},
   "source": [
    "Note that, once a theorem has been proven, you cannot prove it again. Take that into account when using `sorry`."
   ]
  },
  {
   "cell_type": "code",
   "execution_count": 12,
   "id": "de97bc91-5a38-45e6-b371-a52f10ff4e6f",
   "metadata": {
    "tags": []
   },
   "outputs": [
    {
     "name": "stdout",
     "output_type": "stream",
     "text": [
      "error: invalid definition, a declaration named 'addone' has already been declared\n"
     ]
    }
   ],
   "source": [
    "lemma addone (m : natural) : m + 1 = next m :=\n",
    "begin\n",
    "  induction m with n hn,\n",
    "  {\n",
    "    refl,\n",
    "  },\n",
    "  {\n",
    "    unfold sum_nat,\n",
    "    rw hn,\n",
    "  },\n",
    "end"
   ]
  },
  {
   "cell_type": "markdown",
   "id": "20dea0c1-46a8-46fa-adeb-307065aab201",
   "metadata": {
    "tags": []
   },
   "source": [
    "Now you can keep proving theorems"
   ]
  },
  {
   "cell_type": "code",
   "execution_count": 13,
   "id": "3f3cd7d8-82e3-48ee-9f4e-92e211e7074b",
   "metadata": {
    "tags": []
   },
   "outputs": [
    {
     "name": "stdout",
     "output_type": "stream",
     "text": [
      "OK"
     ]
    }
   ],
   "source": [
    "lemma addnext (m n : natural) : m + next n = next (m + n) :=\n",
    "begin\n",
    "    induction m with m hm,\n",
    "    {\n",
    "        refl,\n",
    "    },\n",
    "    {\n",
    "        unfold sum_nat,\n",
    "        rw hm,\n",
    "    },\n",
    "end"
   ]
  },
  {
   "cell_type": "markdown",
   "id": "14c7db65-09b0-4fdb-800d-bc01ade45668",
   "metadata": {},
   "source": [
    "you can print the already done definitions and already proven results"
   ]
  },
  {
   "cell_type": "code",
   "execution_count": 14,
   "id": "ccc09b27-4f58-40de-bd27-b0c9c57cc90e",
   "metadata": {
    "tags": []
   },
   "outputs": [
    {
     "name": "stdout",
     "output_type": "stream",
     "text": [
      "inductive natural \n",
      "| one        : natural\n",
      "| next  : natural -> natural\n",
      "\n",
      "\n",
      "def sum_nat : natural -> natural -> natural \n",
      "| one n := next n\n",
      "| (next m) n := next (sum_nat m n)\n",
      "\n",
      "\n",
      "lemma addone (m : natural) : m + 1 = next m \n",
      "lemma addnext (m n : natural) : m + next n = next (m + n) \n"
     ]
    }
   ],
   "source": [
    "-- print"
   ]
  },
  {
   "cell_type": "markdown",
   "id": "a16a8cc8-f354-469d-8d22-d312db8d5ba7",
   "metadata": {},
   "source": [
    "and can also save the current session file"
   ]
  },
  {
   "cell_type": "code",
   "execution_count": 15,
   "id": "85bc0ea6-be5f-41db-9fc7-5c221f5b77f0",
   "metadata": {
    "tags": []
   },
   "outputs": [
    {
     "name": "stdout",
     "output_type": "stream",
     "text": [
      "file example.lean saved"
     ]
    }
   ],
   "source": [
    "-- save example.lean"
   ]
  },
  {
   "cell_type": "code",
   "execution_count": null,
   "id": "80e4fff1-e128-488f-9113-0e666f02299f",
   "metadata": {},
   "outputs": [],
   "source": []
  }
 ],
 "metadata": {
  "kernelspec": {
   "display_name": "LEAN",
   "language": "lean",
   "name": "lean"
  },
  "language_info": {
   "file_extension": ".lean",
   "mimetype": "text/plain",
   "name": "Lean"
  }
 },
 "nbformat": 4,
 "nbformat_minor": 5
}
